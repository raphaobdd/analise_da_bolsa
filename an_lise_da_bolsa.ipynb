{
  "nbformat": 4,
  "nbformat_minor": 0,
  "metadata": {
    "colab": {
      "provenance": [],
      "authorship_tag": "ABX9TyMTZYu5Dp2ZZekyVvYWKw3G",
      "include_colab_link": true
    },
    "kernelspec": {
      "name": "python3",
      "display_name": "Python 3"
    },
    "language_info": {
      "name": "python"
    }
  },
  "cells": [
    {
      "cell_type": "markdown",
      "metadata": {
        "id": "view-in-github",
        "colab_type": "text"
      },
      "source": [
        "<a href=\"https://colab.research.google.com/github/raphaobdd/analise_da_bolsa/blob/main/an_lise_da_bolsa.ipynb\" target=\"_parent\"><img src=\"https://colab.research.google.com/assets/colab-badge.svg\" alt=\"Open In Colab\"/></a>"
      ]
    },
    {
      "cell_type": "code",
      "execution_count": null,
      "metadata": {
        "id": "Ucg2TAJbKNcY"
      },
      "outputs": [],
      "source": [
        "import yfinance as yf\n",
        "import pandas as pd\n",
        "import numpy as np\n",
        "from datetime import datetime, timedelta"
      ]
    },
    {
      "cell_type": "code",
      "source": [
        "def analisar_acao(ticker, periodo_anos=5):\n",
        "    # Adiciona .SA se não existir (para ações brasileiras)\n",
        "    if '.SA' not in ticker.upper():\n",
        "        ticker = ticker.upper() + '.SA'\n",
        "\n",
        "    try:\n",
        "        # Baixa dados históricos\n",
        "        acao = yf.Ticker(ticker)\n",
        "        hoje = datetime.now()\n",
        "        inicio = hoje - timedelta(days=periodo_anos*365)\n",
        "\n",
        "        # Dados históricos para análise técnica\n",
        "        hist = acao.history(start=inicio, end=hoje)\n",
        "\n",
        "        # Dados fundamentalistas\n",
        "        info = acao.info\n",
        "\n",
        "        # === Análise Fundamentalista ===\n",
        "        analise = {}\n",
        "\n",
        "        # P/L (Price/Earnings)\n",
        "        try:\n",
        "            analise['P/L'] = info.get('trailingPE', None)\n",
        "            analise['P/L_viavel'] = 0 <= analise['P/L'] <= 20 if analise['P/L'] else None\n",
        "        except:\n",
        "            analise['P/L'] = None\n",
        "            analise['P/L_viavel'] = None\n",
        "\n",
        "        # P/VP (Price/Book)\n",
        "        try:\n",
        "            analise['P/VP'] = info.get('priceToBook', None)\n",
        "            analise['P/VP_viavel'] = 0 <= analise['P/VP'] <= 2 if analise['P/VP'] else None\n",
        "        except:\n",
        "            analise['P/VP'] = None\n",
        "            analise['P/VP_viavel'] = None\n",
        "\n",
        "        # ROE (Return on Equity)\n",
        "        try:\n",
        "          analise['ROE'] = info.get('returnOnEquity', None)\n",
        "          if analise['ROE']:\n",
        "              analise['ROE'] = analise['ROE'] * 100\n",
        "          analise['ROE_viavel'] = analise['ROE'] >= 10 if analise['ROE'] else None\n",
        "        except:\n",
        "          analise['ROE'] = None\n",
        "          analise['ROE_viavel'] = None\n",
        "\n",
        "        # Dividend Yield\n",
        "        try:\n",
        "            analise['DY'] = info.get('dividendYield', None)\n",
        "            if analise['DY']:\n",
        "                analise['DY'] = analise['DY'] * 100\n",
        "            analise['DY_viavel'] = analise['DY'] >= 5 if analise['DY'] else None\n",
        "        except:\n",
        "            analise['DY'] = None\n",
        "            analise['DY_viavel'] = None\n",
        "\n",
        "        # === Análise Técnica ===\n",
        "\n",
        "        # Média Móvel 200 dias\n",
        "        hist['MM200'] = hist['Close'].rolling(window=200).mean()\n",
        "        preco_atual = hist['Close'][-1]\n",
        "        mm200_atual = hist['MM200'][-1]\n",
        "        analise['Preço/MM200'] = preco_atual/mm200_atual\n",
        "        analise['Preço_Acima_MM200'] = preco_atual > mm200_atual\n",
        "\n",
        "        # Volatilidade (Desvio Padrão dos Retornos)\n",
        "        retornos = hist['Close'].pct_change()\n",
        "        analise['Volatilidade'] = retornos.std() * np.sqrt(252) * 100  # Anualizada\n",
        "        analise['Volatilidade_viavel'] = analise['Volatilidade'] <= 40\n",
        "\n",
        "        # === Pontuação Final ===\n",
        "        pontos_possiveis = 0\n",
        "        pontos_obtidos = 0\n",
        "\n",
        "        for indicador in ['P/L_viavel', 'P/VP_viavel', 'ROE_viavel', 'DY_viavel', 'Preço_Acima_MM200', 'Volatilidade_viavel']:\n",
        "            if analise[indicador] is not None:\n",
        "                pontos_possiveis += 1\n",
        "                if analise[indicador]:\n",
        "                    pontos_obtidos += 1\n",
        "\n",
        "        if pontos_possiveis > 0:\n",
        "            analise['Pontuação'] = (pontos_obtidos / pontos_possiveis) * 100\n",
        "        else:\n",
        "            analise['Pontuação'] = None\n",
        "\n",
        "        # Recomendação\n",
        "        if analise['Pontuação'] is not None:\n",
        "            if analise['Pontuação'] >= 80:\n",
        "                analise['Recomendação'] = 'FORTE COMPRA'\n",
        "            elif analise['Pontuação'] >= 60:\n",
        "                analise['Recomendação'] = 'COMPRA'\n",
        "            elif analise['Pontuação'] >= 40:\n",
        "                analise['Recomendação'] = 'NEUTRO'\n",
        "            elif analise['Pontuação'] >= 20:\n",
        "                analise['Recomendação'] = 'VENDA'\n",
        "            else:\n",
        "                analise['Recomendação'] = 'FORTE VENDA'\n",
        "        else:\n",
        "            analise['Recomendação'] = 'DADOS INSUFICIENTES'\n",
        "\n",
        "        return analise\n",
        "\n",
        "    except Exception as e:\n",
        "        return {\n",
        "            'erro': f'Erro ao analisar ação: {str(e)}',\n",
        "            'Recomendação': 'ERRO NA ANÁLISE'\n",
        "        }\n"
      ],
      "metadata": {
        "id": "f7hqT04BKcjr"
      },
      "execution_count": null,
      "outputs": []
    },
    {
      "cell_type": "code",
      "source": [
        "def imprimir_analise(ticker):\n",
        "    resultado = analisar_acao(ticker)\n",
        "\n",
        "    print(f\"\\nAnálise da ação {ticker.upper()}\")\n",
        "    print(\"-\" * 50)\n",
        "\n",
        "    if 'erro' in resultado:\n",
        "        print(f\"ERRO: {resultado['erro']}\")\n",
        "        return\n",
        "\n",
        "    # Indicadores Fundamentalistas\n",
        "    print(\"\\nIndicadores Fundamentalistas:\")\n",
        "    if resultado['P/L'] is not None:\n",
        "        print(f\"P/L: {resultado['P/L']:.2f} ({'✓' if resultado['P/L_viavel'] else '✗'})\")\n",
        "    if resultado['P/VP'] is not None:\n",
        "        print(f\"P/VP: {resultado['P/VP']:.2f} ({'✓' if resultado['P/VP_viavel'] else '✗'})\")\n",
        "    if resultado['ROE'] is not None:\n",
        "        print(f\"ROE: {resultado['ROE']:.2f}% ({'✓' if resultado['ROE_viavel'] else '✗'})\")\n",
        "    if resultado['DY'] is not None:\n",
        "        print(f\"Dividend Yield: {resultado['DY']:.2f}% ({'✓' if resultado['DY_viavel'] else '✗'})\")\n",
        "\n",
        "    # Indicadores Técnicos\n",
        "    print(\"\\nIndicadores Técnicos:\")\n",
        "    print(f\"Preço/MM200: {resultado['Preço/MM200']:.2f} ({'✓' if resultado['Preço_Acima_MM200'] else '✗'})\")\n",
        "    print(f\"Volatilidade Anual: {resultado['Volatilidade']:.2f}% ({'✓' if resultado['Volatilidade_viavel'] else '✗'})\")\n",
        "\n",
        "    # Resultado Final\n",
        "    print(\"\\nResultado Final:\")\n",
        "    if resultado['Pontuação'] is not None:\n",
        "        print(f\"Pontuação: {resultado['Pontuação']:.2f}%\")\n",
        "    print(f\"Recomendação: {resultado['Recomendação']}\")"
      ],
      "metadata": {
        "id": "sUMWj4lwKnxY"
      },
      "execution_count": null,
      "outputs": []
    },
    {
      "cell_type": "code",
      "source": [
        "imprimir_analise('MGLU3')"
      ],
      "metadata": {
        "colab": {
          "base_uri": "https://localhost:8080/"
        },
        "id": "LDxakuv4Ma0A",
        "outputId": "cfc2535e-d151-4c19-9c7a-24f65975999c"
      },
      "execution_count": null,
      "outputs": [
        {
          "output_type": "stream",
          "name": "stdout",
          "text": [
            "\n",
            "Análise da ação MGLU3\n",
            "--------------------------------------------------\n",
            "\n",
            "Indicadores Fundamentalistas:\n",
            "P/L: 11.40 (✓)\n",
            "P/VP: 0.47 (✓)\n",
            "ROE: -4.50% (✗)\n",
            "\n",
            "Indicadores Técnicos:\n",
            "Preço/MM200: 0.66 (✗)\n",
            "Volatilidade Anual: 70.93% (✗)\n",
            "\n",
            "Resultado Final:\n",
            "Pontuação: 40.00%\n",
            "Recomendação: NEUTRO\n"
          ]
        },
        {
          "output_type": "stream",
          "name": "stderr",
          "text": [
            "<ipython-input-18-f808c8400809>:61: FutureWarning: Series.__getitem__ treating keys as positions is deprecated. In a future version, integer keys will always be treated as labels (consistent with DataFrame behavior). To access a value by position, use `ser.iloc[pos]`\n",
            "  preco_atual = hist['Close'][-1]\n",
            "<ipython-input-18-f808c8400809>:62: FutureWarning: Series.__getitem__ treating keys as positions is deprecated. In a future version, integer keys will always be treated as labels (consistent with DataFrame behavior). To access a value by position, use `ser.iloc[pos]`\n",
            "  mm200_atual = hist['MM200'][-1]\n"
          ]
        }
      ]
    }
  ]
}